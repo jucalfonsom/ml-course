{
 "cells": [
  {
   "cell_type": "code",
   "execution_count": 36,
   "metadata": {},
   "outputs": [],
   "source": [
    "import numpy as np\n",
    "import pandas as pd\n",
    "import matplotlib.pyplot as plt\n",
    "\n",
    "from sklearn.preprocessing import MinMaxScaler\n",
    "from keras.models import Sequential\n",
    "from keras.layers import Dense, LSTM"
   ]
  },
  {
   "cell_type": "code",
   "execution_count": 16,
   "metadata": {},
   "outputs": [
    {
     "data": {
      "text/html": [
       "<div>\n",
       "<style scoped>\n",
       "    .dataframe tbody tr th:only-of-type {\n",
       "        vertical-align: middle;\n",
       "    }\n",
       "\n",
       "    .dataframe tbody tr th {\n",
       "        vertical-align: top;\n",
       "    }\n",
       "\n",
       "    .dataframe thead th {\n",
       "        text-align: right;\n",
       "    }\n",
       "</style>\n",
       "<table border=\"1\" class=\"dataframe\">\n",
       "  <thead>\n",
       "    <tr style=\"text-align: right;\">\n",
       "      <th></th>\n",
       "      <th>Open</th>\n",
       "      <th>High</th>\n",
       "      <th>Low</th>\n",
       "      <th>Close</th>\n",
       "      <th>Volume</th>\n",
       "      <th>Name</th>\n",
       "    </tr>\n",
       "    <tr>\n",
       "      <th>Date</th>\n",
       "      <th></th>\n",
       "      <th></th>\n",
       "      <th></th>\n",
       "      <th></th>\n",
       "      <th></th>\n",
       "      <th></th>\n",
       "    </tr>\n",
       "  </thead>\n",
       "  <tbody>\n",
       "    <tr>\n",
       "      <th>2006-01-03</th>\n",
       "      <td>10.34</td>\n",
       "      <td>10.68</td>\n",
       "      <td>10.32</td>\n",
       "      <td>10.68</td>\n",
       "      <td>201853036</td>\n",
       "      <td>AAPL</td>\n",
       "    </tr>\n",
       "    <tr>\n",
       "      <th>2006-01-04</th>\n",
       "      <td>10.73</td>\n",
       "      <td>10.85</td>\n",
       "      <td>10.64</td>\n",
       "      <td>10.71</td>\n",
       "      <td>155225609</td>\n",
       "      <td>AAPL</td>\n",
       "    </tr>\n",
       "    <tr>\n",
       "      <th>2006-01-05</th>\n",
       "      <td>10.69</td>\n",
       "      <td>10.70</td>\n",
       "      <td>10.54</td>\n",
       "      <td>10.63</td>\n",
       "      <td>112396081</td>\n",
       "      <td>AAPL</td>\n",
       "    </tr>\n",
       "    <tr>\n",
       "      <th>2006-01-06</th>\n",
       "      <td>10.75</td>\n",
       "      <td>10.96</td>\n",
       "      <td>10.65</td>\n",
       "      <td>10.90</td>\n",
       "      <td>176139334</td>\n",
       "      <td>AAPL</td>\n",
       "    </tr>\n",
       "    <tr>\n",
       "      <th>2006-01-09</th>\n",
       "      <td>10.96</td>\n",
       "      <td>11.03</td>\n",
       "      <td>10.82</td>\n",
       "      <td>10.86</td>\n",
       "      <td>168861224</td>\n",
       "      <td>AAPL</td>\n",
       "    </tr>\n",
       "  </tbody>\n",
       "</table>\n",
       "</div>"
      ],
      "text/plain": [
       "             Open   High    Low  Close     Volume  Name\n",
       "Date                                                   \n",
       "2006-01-03  10.34  10.68  10.32  10.68  201853036  AAPL\n",
       "2006-01-04  10.73  10.85  10.64  10.71  155225609  AAPL\n",
       "2006-01-05  10.69  10.70  10.54  10.63  112396081  AAPL\n",
       "2006-01-06  10.75  10.96  10.65  10.90  176139334  AAPL\n",
       "2006-01-09  10.96  11.03  10.82  10.86  168861224  AAPL"
      ]
     },
     "execution_count": 16,
     "metadata": {},
     "output_type": "execute_result"
    }
   ],
   "source": [
    "# Read dataset\n",
    "df = pd.read_csv('./data/AAPL_2006-01-01_to_2018-01-01.csv', index_col='Date', parse_dates=['Date'])\n",
    "df.head()"
   ]
  },
  {
   "cell_type": "code",
   "execution_count": 17,
   "metadata": {},
   "outputs": [
    {
     "name": "stderr",
     "output_type": "stream",
     "text": [
      "/tmp/ipykernel_22974/631395651.py:2: FutureWarning: Indexing a DataFrame with a datetimelike index using a single string to slice the rows, like `frame[string]`, is deprecated and will be removed in a future version. Use `frame.loc[string]` instead.\n",
      "  test = df['2017'].iloc[:,1:2]\n"
     ]
    }
   ],
   "source": [
    "train = df[:'2016'].iloc[:,1:2]\n",
    "test = df['2017'].iloc[:,1:2]"
   ]
  },
  {
   "cell_type": "code",
   "execution_count": 18,
   "metadata": {},
   "outputs": [
    {
     "data": {
      "image/png": "[encoded data removed]",
      "text/plain": [
       "<Figure size 432x288 with 1 Axes>"
      ]
     },
     "metadata": {
      "needs_background": "light"
     },
     "output_type": "display_data"
    }
   ],
   "source": [
    "train['High'].plot(legend=True)\n",
    "test['High'].plot(legend=True)\n",
    "plt.legend(['Train (2006-2016)', 'Test (2017'])\n",
    "plt.show()"
   ]
  },
  {
   "cell_type": "code",
   "execution_count": 19,
   "metadata": {},
   "outputs": [],
   "source": [
    "sc = MinMaxScaler(feature_range=(0, 1))\n",
    "train_scaler = sc.fit_transform(train)"
   ]
  },
  {
   "cell_type": "code",
   "execution_count": 20,
   "metadata": {},
   "outputs": [],
   "source": [
    "steps = 60\n",
    "X_train = []\n",
    "Y_train = []\n",
    "size = len(train_scaler)"
   ]
  },
  {
   "cell_type": "code",
   "execution_count": 21,
   "metadata": {},
   "outputs": [],
   "source": [
    "for i in range(steps, size):\n",
    "    X_train.append(train_scaler[i - steps:i, 0])\n",
    "    Y_train.append(train_scaler[i, 0])"
   ]
  },
  {
   "cell_type": "code",
   "execution_count": 22,
   "metadata": {},
   "outputs": [
    {
     "data": {
      "text/plain": [
       "(2708, 60)"
      ]
     },
     "execution_count": 22,
     "metadata": {},
     "output_type": "execute_result"
    }
   ],
   "source": [
    "X_train = np.array(X_train)\n",
    "X_train.shape"
   ]
  },
  {
   "cell_type": "code",
   "execution_count": 23,
   "metadata": {},
   "outputs": [
    {
     "data": {
      "text/plain": [
       "(2708,)"
      ]
     },
     "execution_count": 23,
     "metadata": {},
     "output_type": "execute_result"
    }
   ],
   "source": [
    "Y_train = np.array(Y_train)\n",
    "Y_train.shape"
   ]
  },
  {
   "cell_type": "code",
   "execution_count": 30,
   "metadata": {},
   "outputs": [
    {
     "data": {
      "text/plain": [
       "(2708, 60, 1)"
      ]
     },
     "execution_count": 30,
     "metadata": {},
     "output_type": "execute_result"
    }
   ],
   "source": [
    "X_train = np.reshape(X_train, (X_train.shape[0], X_train.shape[1], 1))\n",
    "X_train.shape"
   ]
  },
  {
   "cell_type": "code",
   "execution_count": 31,
   "metadata": {},
   "outputs": [],
   "source": [
    "dim_input = (X_train.shape[1], 1)\n",
    "dim_output = 1\n",
    "na = 50"
   ]
  },
  {
   "cell_type": "code",
   "execution_count": 32,
   "metadata": {},
   "outputs": [
    {
     "name": "stderr",
     "output_type": "stream",
     "text": [
      "2022-07-18 20:47:04.969971: W tensorflow/stream_executor/platform/default/dso_loader.cc:64] Could not load dynamic library 'libcuda.so.1'; dlerror: libcuda.so.1: cannot open shared object file: No such file or directory\n",
      "2022-07-18 20:47:04.970271: W tensorflow/stream_executor/cuda/cuda_driver.cc:269] failed call to cuInit: UNKNOWN ERROR (303)\n",
      "2022-07-18 20:47:04.970469: I tensorflow/stream_executor/cuda/cuda_diagnostics.cc:156] kernel driver does not appear to be running on this host (DESKTOP-H0LOU2C): /proc/driver/nvidia/version does not exist\n"
     ]
    },
    {
     "name": "stdout",
     "output_type": "stream",
     "text": [
      "Epoch 1/20\n",
      "85/85 [==============================] - 12s 85ms/step - loss: 0.0101\n",
      "Epoch 2/20\n",
      "85/85 [==============================] - 7s 86ms/step - loss: 0.0012\n",
      "Epoch 3/20\n",
      "85/85 [==============================] - 8s 93ms/step - loss: 8.3107e-04\n",
      "Epoch 4/20\n",
      "85/85 [==============================] - 7s 80ms/step - loss: 6.0509e-04\n",
      "Epoch 5/20\n",
      "85/85 [==============================] - 7s 82ms/step - loss: 5.0126e-04\n",
      "Epoch 6/20\n",
      "85/85 [==============================] - 8s 98ms/step - loss: 4.9192e-04\n",
      "Epoch 7/20\n",
      "85/85 [==============================] - 7s 77ms/step - loss: 3.5158e-04\n",
      "Epoch 8/20\n",
      "85/85 [==============================] - 7s 80ms/step - loss: 3.8532e-04\n",
      "Epoch 9/20\n",
      "85/85 [==============================] - 7s 80ms/step - loss: 3.2301e-04\n",
      "Epoch 10/20\n",
      "85/85 [==============================] - 6s 76ms/step - loss: 3.2670e-04\n",
      "Epoch 11/20\n",
      "85/85 [==============================] - 7s 80ms/step - loss: 2.8996e-04\n",
      "Epoch 12/20\n",
      "85/85 [==============================] - 8s 96ms/step - loss: 2.5826e-04\n",
      "Epoch 13/20\n",
      "85/85 [==============================] - 7s 79ms/step - loss: 2.6394e-04\n",
      "Epoch 14/20\n",
      "85/85 [==============================] - 7s 78ms/step - loss: 2.4293e-04\n",
      "Epoch 15/20\n",
      "85/85 [==============================] - 7s 79ms/step - loss: 2.3019e-04\n",
      "Epoch 16/20\n",
      "85/85 [==============================] - 7s 82ms/step - loss: 2.2672e-04\n",
      "Epoch 17/20\n",
      "85/85 [==============================] - 8s 94ms/step - loss: 2.1198e-04\n",
      "Epoch 18/20\n",
      "85/85 [==============================] - 9s 100ms/step - loss: 2.1465e-04\n",
      "Epoch 19/20\n",
      "85/85 [==============================] - 8s 92ms/step - loss: 2.0487e-04\n",
      "Epoch 20/20\n",
      "85/85 [==============================] - 8s 89ms/step - loss: 1.8869e-04\n"
     ]
    },
    {
     "data": {
      "text/plain": [
       "<keras.callbacks.History at 0x7f0074040100>"
      ]
     },
     "execution_count": 32,
     "metadata": {},
     "output_type": "execute_result"
    }
   ],
   "source": [
    "model = Sequential()\n",
    "model.add(LSTM(units=na, input_shape=dim_input))\n",
    "model.add(Dense(units=dim_output))\n",
    "model.compile(optimizer='rmsprop', loss='mse')\n",
    "model.fit(X_train, Y_train, epochs=20, batch_size=32)\n"
   ]
  },
  {
   "cell_type": "code",
   "execution_count": 38,
   "metadata": {},
   "outputs": [],
   "source": [
    "def plot_prediction(real, prediction):\n",
    "    plt.plot(real[0:len(prediction)], color='red', label='Real_Value_AAPL')\n",
    "    plt.plot(prediction, color='blue', label='Prediction_Value_AAPL')\n",
    "    plt.ylim(1.1 * np.min(prediction)/2, 1.1 * np.max(prediction))\n",
    "    plt.xlabel('Time')\n",
    "    plt.ylabel('Stock value')\n",
    "    plt.legend()\n",
    "    plt.show()"
   ]
  },
  {
   "cell_type": "code",
   "execution_count": 27,
   "metadata": {},
   "outputs": [
    {
     "name": "stderr",
     "output_type": "stream",
     "text": [
      "/home/jota/projects/ml-course/venv/lib/python3.8/site-packages/sklearn/base.py:450: UserWarning: X does not have valid feature names, but MinMaxScaler was fitted with feature names\n",
      "  warnings.warn(\n"
     ]
    }
   ],
   "source": [
    "x_test = test.values\n",
    "x_test = sc.transform(x_test)"
   ]
  },
  {
   "cell_type": "code",
   "execution_count": 28,
   "metadata": {},
   "outputs": [],
   "source": [
    "X_test = []\n",
    "for i in range(steps, len(x_test)):\n",
    "    X_test.append(x_test[i-steps:i, 0])"
   ]
  },
  {
   "cell_type": "code",
   "execution_count": 33,
   "metadata": {},
   "outputs": [],
   "source": [
    "X_test = np.array(X_test)\n",
    "X_test = np.reshape(X_test, (X_test.shape[0], X_test.shape[1], 1))"
   ]
  },
  {
   "cell_type": "code",
   "execution_count": 39,
   "metadata": {},
   "outputs": [
    {
     "name": "stdout",
     "output_type": "stream",
     "text": [
      "6/6 [==============================] - 0s 56ms/step\n"
     ]
    }
   ],
   "source": [
    "prediction = model.predict(X_test)"
   ]
  },
  {
   "cell_type": "code",
   "execution_count": 40,
   "metadata": {},
   "outputs": [
    {
     "data": {
      "text/plain": [
       "array([[143.89735],\n",
       "       [144.15993],\n",
       "       [143.81142],\n",
       "       [143.5229 ],\n",
       "       [144.00676],\n",
       "       [144.75375],\n",
       "       [144.4298 ],\n",
       "       [143.77977],\n",
       "       [143.33157],\n",
       "       [142.92903],\n",
       "       [142.02702],\n",
       "       [141.69736],\n",
       "       [141.41658],\n",
       "       [141.3799 ],\n",
       "       [141.36644],\n",
       "       [141.9112 ],\n",
       "       [142.08012],\n",
       "       [142.80775],\n",
       "       [143.82594],\n",
       "       [144.055  ],\n",
       "       [143.64603],\n",
       "       [143.4947 ],\n",
       "       [145.42099],\n",
       "       [147.20297],\n",
       "       [147.26695],\n",
       "       [146.59644],\n",
       "       [147.47682],\n",
       "       [151.29758],\n",
       "       [154.04536],\n",
       "       [153.86661],\n",
       "       [153.16335],\n",
       "       [154.55931],\n",
       "       [155.85223],\n",
       "       [155.75224],\n",
       "       [154.346  ],\n",
       "       [152.82463],\n",
       "       [152.78499],\n",
       "       [153.52394],\n",
       "       [154.01169],\n",
       "       [153.49196],\n",
       "       [153.12802],\n",
       "       [153.02701],\n",
       "       [153.17987],\n",
       "       [153.09467],\n",
       "       [152.42775],\n",
       "       [153.40747],\n",
       "       [153.5545 ],\n",
       "       [154.15538],\n",
       "       [154.60446],\n",
       "       [154.42458],\n",
       "       [153.9968 ],\n",
       "       [148.05566],\n",
       "       [145.5439 ],\n",
       "       [145.94038],\n",
       "       [144.7415 ],\n",
       "       [143.59424],\n",
       "       [144.57698],\n",
       "       [145.53586],\n",
       "       [145.2202 ],\n",
       "       [145.15735],\n",
       "       [145.61131],\n",
       "       [146.67589],\n",
       "       [145.86961],\n",
       "       [145.06992],\n",
       "       [144.32088],\n",
       "       [144.03662],\n",
       "       [144.28583],\n",
       "       [144.15276],\n",
       "       [143.14346],\n",
       "       [143.36511],\n",
       "       [144.5829 ],\n",
       "       [145.14606],\n",
       "       [145.29779],\n",
       "       [146.73828],\n",
       "       [148.16655],\n",
       "       [149.6121 ],\n",
       "       [149.62576],\n",
       "       [150.11671],\n",
       "       [150.74335],\n",
       "       [150.18929],\n",
       "       [150.967  ],\n",
       "       [152.5377 ],\n",
       "       [153.25345],\n",
       "       [153.2197 ],\n",
       "       [150.64815],\n",
       "       [149.26411],\n",
       "       [149.20494],\n",
       "       [155.5554 ],\n",
       "       [157.54646],\n",
       "       [156.69464],\n",
       "       [156.83908],\n",
       "       [159.36081],\n",
       "       [160.49933],\n",
       "       [159.53296],\n",
       "       [157.80608],\n",
       "       [158.27348],\n",
       "       [160.35397],\n",
       "       [161.46536],\n",
       "       [160.20346],\n",
       "       [158.40837],\n",
       "       [156.82744],\n",
       "       [157.78586],\n",
       "       [159.00511],\n",
       "       [159.39874],\n",
       "       [159.08209],\n",
       "       [159.76057],\n",
       "       [161.03784],\n",
       "       [162.06282],\n",
       "       [162.68787],\n",
       "       [163.08192],\n",
       "       [162.76193],\n",
       "       [161.70903],\n",
       "       [160.76254],\n",
       "       [159.83553],\n",
       "       [160.09412],\n",
       "       [161.66516],\n",
       "       [159.79726],\n",
       "       [157.80385],\n",
       "       [158.33578],\n",
       "       [158.91869],\n",
       "       [158.45853],\n",
       "       [156.9908 ],\n",
       "       [154.73608],\n",
       "       [151.6324 ],\n",
       "       [150.16737],\n",
       "       [151.46422],\n",
       "       [152.97531],\n",
       "       [152.991  ],\n",
       "       [152.43239],\n",
       "       [152.43272],\n",
       "       [153.11694],\n",
       "       [152.76697],\n",
       "       [153.3764 ],\n",
       "       [153.94649],\n",
       "       [154.90804],\n",
       "       [156.15942],\n",
       "       [155.99774],\n",
       "       [155.8396 ],\n",
       "       [155.85687],\n",
       "       [157.71002],\n",
       "       [159.35477],\n",
       "       [159.60634],\n",
       "       [156.9812 ],\n",
       "       [155.9335 ],\n",
       "       [156.1938 ],\n",
       "       [156.3692 ],\n",
       "       [156.31851],\n",
       "       [156.347  ],\n",
       "       [160.07692],\n",
       "       [165.14195],\n",
       "       [167.89816],\n",
       "       [168.24878],\n",
       "       [167.04102],\n",
       "       [170.3504 ],\n",
       "       [173.2665 ],\n",
       "       [173.94803],\n",
       "       [174.17303],\n",
       "       [174.207  ],\n",
       "       [173.76965],\n",
       "       [172.92776],\n",
       "       [171.86824],\n",
       "       [169.37326],\n",
       "       [169.1591 ],\n",
       "       [169.36249],\n",
       "       [168.73329],\n",
       "       [170.2019 ],\n",
       "       [172.03687],\n",
       "       [172.85825],\n",
       "       [172.52118],\n",
       "       [172.08754],\n",
       "       [170.8051 ],\n",
       "       [169.73347],\n",
       "       [169.2061 ],\n",
       "       [169.76433],\n",
       "       [169.41135],\n",
       "       [168.07936],\n",
       "       [167.59561],\n",
       "       [168.10371],\n",
       "       [169.69286],\n",
       "       [170.04285],\n",
       "       [170.491  ],\n",
       "       [170.493  ],\n",
       "       [171.11607],\n",
       "       [173.52267],\n",
       "       [173.52766],\n",
       "       [172.81451],\n",
       "       [172.98795],\n",
       "       [172.99728],\n",
       "       [170.33018],\n",
       "       [168.34778],\n",
       "       [168.7654 ]], dtype=float32)"
      ]
     },
     "execution_count": 40,
     "metadata": {},
     "output_type": "execute_result"
    }
   ],
   "source": [
    "prediction = sc.inverse_transform(prediction)\n",
    "prediction"
   ]
  },
  {
   "cell_type": "code",
   "execution_count": 41,
   "metadata": {},
   "outputs": [
    {
     "data": {
      "image/png": "[encoded data removed]",
      "text/plain": [
       "<Figure size 432x288 with 1 Axes>"
      ]
     },
     "metadata": {
      "needs_background": "light"
     },
     "output_type": "display_data"
    }
   ],
   "source": [
    "plot_prediction(test.values, prediction)"
   ]
  }
 ],
 "metadata": {
  "kernelspec": {
   "display_name": "Python 3.8.10 ('venv': venv)",
   "language": "python",
   "name": "python3"
  },
  "language_info": {
   "codemirror_mode": {
    "name": "ipython",
    "version": 3
   },
   "file_extension": ".py",
   "mimetype": "text/x-python",
   "name": "python",
   "nbconvert_exporter": "python",
   "pygments_lexer": "ipython3",
   "version": "3.8.10"
  },
  "orig_nbformat": 4,
  "vscode": {
   "interpreter": {
    "hash": "7ca0cbfb4fc162a1bd0d5bee6cfd1193c91dc4b7605f3792a653f95917a8a75b"
   }
  }
 },
 "nbformat": 4,
 "nbformat_minor": 2
}
