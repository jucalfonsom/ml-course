{
 "cells": [
  {
   "cell_type": "markdown",
   "metadata": {},
   "source": [
    "# Age Detection Dataset\n",
    "\n",
    "Predict the age of an Actor or Actress from facial attributes\n",
    "\n",
    "Source: [Kaggle](https://www.kaggle.com/datasets/arashnic/faces-age-detection-dataset?select=train.csv)\n",
    "\n",
    "---\n",
    "\n",
    "## About Dataset\n",
    "\n",
    "### Context\n",
    "\n",
    "Recently, many applications from biometrics,to entertainment use the information extracted from face images that contain information about age, gender, ethnic background, and emotional state. Automatic age estimation from facial images is one of the popular and challenging tasks that have different fields of applications such as controlling the content of the watched media depending on the customer's age.\n",
    "So facial feature analysis has been a topic of interest mainly due to its applicability and Deep Learning techniques are now making it possible for face analysis to be not just a dream but a reality. This simple practice dataset can get you more acquainted with application of deep learning in age detection.\n",
    "\n",
    "### Content\n",
    "\n",
    "Indian Movie Face database (IMFDB) is a large unconstrained face database consisting of 34512 images of 100 Indian actors collected from more than 100 videos. All the images are manually selected and cropped from the video frames resulting in a high degree of variability interms of scale, pose, expression, illumination, age, resolution, occlusion, and makeup. IMFDB is the first face database that provides a detailed annotation of every image in terms of age, pose, gender, expression and type of occlusion that may help other face related applications.\n",
    "\n",
    "The dataset provided a total of 19906 images.The attributes of data are as follows:\n",
    "\n",
    "* ID – Unique ID of image\n",
    "* Class – Age bin of person in image\n",
    "\n",
    "---"
   ]
  },
  {
   "cell_type": "markdown",
   "metadata": {},
   "source": [
    "## 1. Import Libraries"
   ]
  },
  {
   "cell_type": "code",
   "execution_count": 116,
   "metadata": {},
   "outputs": [],
   "source": [
    "# Import libraries\n",
    "\n",
    "import numpy as np\n",
    "import pandas as pd\n",
    "import os\n",
    "\n",
    "import tensorflow as tf\n",
    "from keras import layers, models\n",
    "import cv2 # To read photos\n",
    "import pickle # To save the data\n",
    "from sklearn.model_selection import train_test_split # To split the data\n",
    "\n",
    "import matplotlib.pyplot as plt\n",
    "\n",
    "from sklearn.metrics import confusion_matrix\n",
    "from sklearn.metrics import ConfusionMatrixDisplay\n",
    "from sklearn.metrics import classification_report"
   ]
  },
  {
   "cell_type": "markdown",
   "metadata": {},
   "source": [
    "## 2. Read and clean data"
   ]
  },
  {
   "cell_type": "code",
   "execution_count": 2,
   "metadata": {},
   "outputs": [],
   "source": [
    "# Images path\n",
    "path = './data/age/'\n",
    "image_path = './data/age/Train/'"
   ]
  },
  {
   "cell_type": "code",
   "execution_count": 75,
   "metadata": {},
   "outputs": [
    {
     "data": {
      "text/plain": [
       "<bound method NDFrame.head of               ID   Class\n",
       "0        377.jpg  MIDDLE\n",
       "1      17814.jpg   YOUNG\n",
       "2      21283.jpg  MIDDLE\n",
       "3      16496.jpg   YOUNG\n",
       "4       4487.jpg  MIDDLE\n",
       "...          ...     ...\n",
       "19901   2482.jpg  MIDDLE\n",
       "19902  20085.jpg   YOUNG\n",
       "19903  19663.jpg  MIDDLE\n",
       "19904  10132.jpg  MIDDLE\n",
       "19905   9896.jpg  MIDDLE\n",
       "\n",
       "[19906 rows x 2 columns]>"
      ]
     },
     "execution_count": 75,
     "metadata": {},
     "output_type": "execute_result"
    }
   ],
   "source": [
    "# Read csv with image information\n",
    "df = pd.read_csv(f'{path}train.csv')\n",
    "df.head"
   ]
  },
  {
   "cell_type": "code",
   "execution_count": 76,
   "metadata": {},
   "outputs": [
    {
     "data": {
      "text/plain": [
       "<AxesSubplot:>"
      ]
     },
     "execution_count": 76,
     "metadata": {},
     "output_type": "execute_result"
    },
    {
     "data": {
      "image/png": "[encoded data removed]",
      "text/plain": [
       "<Figure size 432x288 with 1 Axes>"
      ]
     },
     "metadata": {
      "needs_background": "light"
     },
     "output_type": "display_data"
    }
   ],
   "source": [
    "# Check classes\n",
    "df['Class'].hist()"
   ]
  },
  {
   "cell_type": "code",
   "execution_count": 77,
   "metadata": {},
   "outputs": [
    {
     "data": {
      "text/plain": [
       "2396"
      ]
     },
     "execution_count": 77,
     "metadata": {},
     "output_type": "execute_result"
    }
   ],
   "source": [
    "LIMIT = len(df[df['Class'] == 'OLD'])\n",
    "LIMIT"
   ]
  },
  {
   "cell_type": "markdown",
   "metadata": {},
   "source": [
    "#### Create dummy variable for class"
   ]
  },
  {
   "cell_type": "code",
   "execution_count": 78,
   "metadata": {},
   "outputs": [
    {
     "data": {
      "text/html": [
       "<div>\n",
       "<style scoped>\n",
       "    .dataframe tbody tr th:only-of-type {\n",
       "        vertical-align: middle;\n",
       "    }\n",
       "\n",
       "    .dataframe tbody tr th {\n",
       "        vertical-align: top;\n",
       "    }\n",
       "\n",
       "    .dataframe thead th {\n",
       "        text-align: right;\n",
       "    }\n",
       "</style>\n",
       "<table border=\"1\" class=\"dataframe\">\n",
       "  <thead>\n",
       "    <tr style=\"text-align: right;\">\n",
       "      <th></th>\n",
       "      <th>ID</th>\n",
       "      <th>Class</th>\n",
       "      <th>Category</th>\n",
       "    </tr>\n",
       "  </thead>\n",
       "  <tbody>\n",
       "    <tr>\n",
       "      <th>0</th>\n",
       "      <td>377.jpg</td>\n",
       "      <td>MIDDLE</td>\n",
       "      <td>1</td>\n",
       "    </tr>\n",
       "    <tr>\n",
       "      <th>1</th>\n",
       "      <td>17814.jpg</td>\n",
       "      <td>YOUNG</td>\n",
       "      <td>0</td>\n",
       "    </tr>\n",
       "    <tr>\n",
       "      <th>2</th>\n",
       "      <td>21283.jpg</td>\n",
       "      <td>MIDDLE</td>\n",
       "      <td>1</td>\n",
       "    </tr>\n",
       "    <tr>\n",
       "      <th>3</th>\n",
       "      <td>16496.jpg</td>\n",
       "      <td>YOUNG</td>\n",
       "      <td>0</td>\n",
       "    </tr>\n",
       "    <tr>\n",
       "      <th>4</th>\n",
       "      <td>4487.jpg</td>\n",
       "      <td>MIDDLE</td>\n",
       "      <td>1</td>\n",
       "    </tr>\n",
       "  </tbody>\n",
       "</table>\n",
       "</div>"
      ],
      "text/plain": [
       "          ID   Class  Category\n",
       "0    377.jpg  MIDDLE         1\n",
       "1  17814.jpg   YOUNG         0\n",
       "2  21283.jpg  MIDDLE         1\n",
       "3  16496.jpg   YOUNG         0\n",
       "4   4487.jpg  MIDDLE         1"
      ]
     },
     "execution_count": 78,
     "metadata": {},
     "output_type": "execute_result"
    }
   ],
   "source": [
    "# Create numeric column for categories\n",
    "# 0: Young, 1: Middle, 2: Old\n",
    "\n",
    "classes = ['YOUNG', 'MIDDLE', 'OLD']\n",
    "categories = [0, 1, 2]\n",
    "\n",
    "df['Category'] = df['Class'].replace(classes,\n",
    "                        categories, inplace=False)\n",
    "df.head()"
   ]
  },
  {
   "cell_type": "code",
   "execution_count": 79,
   "metadata": {},
   "outputs": [
    {
     "data": {
      "text/plain": [
       "array(['MIDDLE', 1, 'YOUNG', 0, 'OLD', 2], dtype=object)"
      ]
     },
     "execution_count": 79,
     "metadata": {},
     "output_type": "execute_result"
    }
   ],
   "source": [
    "# Check the ids\n",
    "pd.unique(df[['Class', 'Category']].values.ravel())"
   ]
  },
  {
   "cell_type": "code",
   "execution_count": 80,
   "metadata": {},
   "outputs": [
    {
     "name": "stdout",
     "output_type": "stream",
     "text": [
      "(65, 48)\n"
     ]
    },
    {
     "data": {
      "text/plain": [
       "<matplotlib.image.AxesImage at 0x7fa9033c5250>"
      ]
     },
     "execution_count": 80,
     "metadata": {},
     "output_type": "execute_result"
    },
    {
     "data": {
      "image/png": "[encoded data removed]",
      "text/plain": [
       "<Figure size 432x288 with 1 Axes>"
      ]
     },
     "metadata": {
      "needs_background": "light"
     },
     "output_type": "display_data"
    }
   ],
   "source": [
    "# Test read images\n",
    "photo = cv2.imread(os.path.join(image_path, df['ID'][10]), cv2.IMREAD_GRAYSCALE)\n",
    "print(photo.shape)\n",
    "plt.imshow(photo, 'gray')"
   ]
  },
  {
   "cell_type": "code",
   "execution_count": 81,
   "metadata": {},
   "outputs": [
    {
     "data": {
      "text/plain": [
       "numpy.ndarray"
      ]
     },
     "execution_count": 81,
     "metadata": {},
     "output_type": "execute_result"
    }
   ],
   "source": [
    "temp_resize = cv2.resize(photo,(28, 28))\n",
    "type(temp_resize)"
   ]
  },
  {
   "cell_type": "markdown",
   "metadata": {},
   "source": [
    "# 3. Read photos and create dataset"
   ]
  },
  {
   "cell_type": "code",
   "execution_count": 83,
   "metadata": {},
   "outputs": [],
   "source": [
    "# Read photos\n",
    "def read_photo(im_path: str, IMAGE_SIZE: int):\n",
    "    \"\"\"\n",
    "    Read photo from path and return a Numpy array of image\n",
    "    :return: image_temp_resize\n",
    "    \"\"\"\n",
    "    image_data_temp = cv2.imread(im_path, cv2.IMREAD_GRAYSCALE)                 # Read Image on gray scale\n",
    "    image_temp_resize = cv2.resize(image_data_temp,(IMAGE_SIZE, IMAGE_SIZE))    # Resize photo\n",
    "    return image_temp_resize"
   ]
  },
  {
   "cell_type": "code",
   "execution_count": 84,
   "metadata": {},
   "outputs": [],
   "source": [
    "# Create x_data and y_data\n",
    "def build_data(x_temp: list, y_temp: list, IMAGE_SIZE: int):\n",
    "    X_temp = np.asanyarray(x_temp) / 255                          # Normalize data\n",
    "    \n",
    "    X_temp = X_temp.reshape(-1, IMAGE_SIZE, IMAGE_SIZE, 1)\n",
    "    Y_temp = np.asarray(y_temp)\n",
    "\n",
    "    return X_temp, Y_temp"
   ]
  },
  {
   "cell_type": "code",
   "execution_count": 85,
   "metadata": {},
   "outputs": [],
   "source": [
    "IMAGE_SIZE = 40"
   ]
  },
  {
   "cell_type": "code",
   "execution_count": 86,
   "metadata": {},
   "outputs": [],
   "source": [
    "# Read all pictures and save in variables\n",
    "\n",
    "# Init variables to append the info\n",
    "x_temp = []\n",
    "y_temp = []\n",
    "\n",
    "limit_class = [0, 0, 0]\n",
    "\n",
    "\n",
    "for index, row in df.iterrows():\n",
    "    try:\n",
    "        if limit_class[row['Category']] >= LIMIT:\n",
    "            continue\n",
    "\n",
    "        path_image = os.path.join(image_path, row['ID'])\n",
    "        image_resize = read_photo(path_image, IMAGE_SIZE)\n",
    "        \n",
    "        x_temp.append(image_resize)\n",
    "        y_temp.append(row['Category'])\n",
    "\n",
    "        # Filter data to get the same amount of each class\n",
    "        limit_class[row['Category']] += 1\n",
    "        if all(x >= LIMIT for x in limit_class):\n",
    "            break\n",
    "        \n",
    "    except Exception as e:\n",
    "        print(f\"Error trying to read {row['ID']} Error {e}\")\n",
    "        continue"
   ]
  },
  {
   "cell_type": "code",
   "execution_count": 13,
   "metadata": {},
   "outputs": [],
   "source": [
    "# ORIGINAL\n",
    "\n",
    "\n",
    "# # Read all pictures and save in variables\n",
    "\n",
    "# # Init variables to append the info\n",
    "# x_temp = []\n",
    "# y_temp = []\n",
    "\n",
    "\n",
    "# for index, row in df.iterrows():\n",
    "#     try:\n",
    "#         path_image = os.path.join(image_path, row['ID'])\n",
    "#         image_resize = read_photo(path_image, IMAGE_SIZE)\n",
    "        \n",
    "#         x_temp.append(image_resize)\n",
    "#         y_temp.append(row['Category'])\n",
    "        \n",
    "#     except Exception as e:\n",
    "#         print(f\"Error trying to read {row['ID']} Error {e}\")\n",
    "#         continue"
   ]
  },
  {
   "cell_type": "code",
   "execution_count": 87,
   "metadata": {},
   "outputs": [],
   "source": [
    "# Create final data in features and label\n",
    "\n",
    "X_features, Y_labels = build_data(x_temp, y_temp, IMAGE_SIZE)"
   ]
  },
  {
   "cell_type": "markdown",
   "metadata": {},
   "source": [
    "### 3.1. Save features and labels to reuse"
   ]
  },
  {
   "cell_type": "code",
   "execution_count": 100,
   "metadata": {},
   "outputs": [],
   "source": [
    "pickle_out = open('./age_detection_data/X_features','wb')\n",
    "# pickle_out = open('X_features','wb')\n",
    "pickle.dump(X_features, pickle_out)\n",
    "pickle_out.close()\n",
    "\n",
    "# Write the Y Label Data\n",
    "pickle_out = open('./age_detection_data/Y_labels','wb')\n",
    "# pickle_out = open('Y_labels', 'wb')\n",
    "pickle.dump(Y_labels, pickle_out)\n",
    "pickle_out.close()"
   ]
  },
  {
   "cell_type": "markdown",
   "metadata": {},
   "source": [
    "# 4. Create Model"
   ]
  },
  {
   "cell_type": "code",
   "execution_count": 101,
   "metadata": {},
   "outputs": [
    {
     "name": "stdout",
     "output_type": "stream",
     "text": [
      "(7188, 40, 40, 1)\n",
      "(7188,)\n"
     ]
    }
   ],
   "source": [
    "# Get the X and Y data from pickle\n",
    "X_Temp = open('./age_detection_data/X_features','rb')\n",
    "X_data = pickle.load(X_Temp)\n",
    "print(X_data.shape)\n",
    "\n",
    "Y_Temp = open('./age_detection_data/Y_labels','rb')\n",
    "Y_data = pickle.load(Y_Temp)\n",
    "print(Y_data.shape)"
   ]
  },
  {
   "cell_type": "code",
   "execution_count": 102,
   "metadata": {},
   "outputs": [],
   "source": [
    "# Split dataset\n",
    "X_train, X_test, y_train, y_test = train_test_split(X_data, Y_data, test_size=0.2)"
   ]
  },
  {
   "cell_type": "markdown",
   "metadata": {},
   "source": [
    "#### General functions to train"
   ]
  },
  {
   "cell_type": "code",
   "execution_count": 168,
   "metadata": {},
   "outputs": [],
   "source": [
    "def run_model(model, name):\n",
    "        history = model.fit(\n",
    "                X_train,\n",
    "                y_train, \n",
    "                batch_size=32,\n",
    "                validation_data=(X_test, y_test), \n",
    "                epochs=25,\n",
    "                validation_split=0.3\n",
    "        )\n",
    "        save_model(model, name) \n",
    "        plot_accuracy(history)\n",
    "        return history, model\n",
    "\n",
    "\n",
    "def save_model(model, name):\n",
    "    model.save(os.path.join('./age_detection_data/', name))\n",
    "\n",
    "\n",
    "def plot_accuracy(history):\n",
    "        plt.plot(history.history['accuracy'])\n",
    "        plt.title('Age detection accuracy')\n",
    "        plt.ylabel('Accuracy')\n",
    "        plt.xlabel('Epoch')\n",
    "        plt.show()\n",
    "\n",
    "\n",
    "def test_model(model, X_test, y_test):\n",
    "        y_pred = model.predict(X_test)\n",
    "        y_prediction = np.argmax(y_pred, axis=1)\n",
    "        \n",
    "        cm = confusion_matrix(y_test, y_prediction)\n",
    "        disp = ConfusionMatrixDisplay(confusion_matrix=cm, display_labels=classes)\n",
    "        disp.plot()\n",
    "        plt.title('Confusion Matrix')\n",
    "        plt.show()\n",
    "        print(classification_report(y_test, y_prediction))"
   ]
  },
  {
   "cell_type": "markdown",
   "metadata": {},
   "source": [
    "### 4.1 First Model"
   ]
  },
  {
   "cell_type": "code",
   "execution_count": 28,
   "metadata": {},
   "outputs": [
    {
     "name": "stderr",
     "output_type": "stream",
     "text": [
      "2022-07-22 00:11:07.685718: W tensorflow/stream_executor/platform/default/dso_loader.cc:64] Could not load dynamic library 'libcuda.so.1'; dlerror: libcuda.so.1: cannot open shared object file: No such file or directory; LD_LIBRARY_PATH: /home/jota/projects/ml-course/venv/lib/python3.8/site-packages/cv2/../../lib64:\n",
      "2022-07-22 00:11:07.686116: W tensorflow/stream_executor/cuda/cuda_driver.cc:269] failed call to cuInit: UNKNOWN ERROR (303)\n",
      "2022-07-22 00:11:07.686385: I tensorflow/stream_executor/cuda/cuda_diagnostics.cc:156] kernel driver does not appear to be running on this host (DESKTOP-H0LOU2C): /proc/driver/nvidia/version does not exist\n"
     ]
    }
   ],
   "source": [
    "model = tf.keras.Sequential([\n",
    "    tf.keras.layers.Conv2D(150, (3, 3), input_shape=X_data.shape[1:], activation='relu'),\n",
    "    tf.keras.layers.MaxPooling2D(2, 2),\n",
    "    \n",
    "    tf.keras.layers.Conv2D(75, (3, 3), activation='relu'),\n",
    "    tf.keras.layers.MaxPooling2D(2, 2),\n",
    "\n",
    "    tf.keras.layers.Dropout(0.5), # Disable some neurons to improve the CNN\n",
    "    \n",
    "    tf.keras.layers.Flatten(),\n",
    "    tf.keras.layers.Dense(units=100, activation='relu'),\n",
    "    tf.keras.layers.Dense(3, activation='softmax')\n",
    "])"
   ]
  },
  {
   "cell_type": "code",
   "execution_count": 29,
   "metadata": {},
   "outputs": [],
   "source": [
    "model.compile(\n",
    "    optimizer=tf.keras.optimizers.Adam(),\n",
    "    loss=tf.keras.losses.SparseCategoricalCrossentropy(),\n",
    "    metrics=['accuracy']\n",
    ")"
   ]
  },
  {
   "cell_type": "code",
   "execution_count": 30,
   "metadata": {},
   "outputs": [
    {
     "name": "stdout",
     "output_type": "stream",
     "text": [
      "Epoch 1/20\n",
      "498/498 [==============================] - 115s 229ms/step - loss: 0.8764 - accuracy: 0.5882 - val_loss: 0.8186 - val_accuracy: 0.6271\n",
      "Epoch 2/20\n",
      "498/498 [==============================] - 114s 230ms/step - loss: 0.8085 - accuracy: 0.6297 - val_loss: 0.7632 - val_accuracy: 0.6615\n",
      "Epoch 3/20\n",
      "498/498 [==============================] - 128s 257ms/step - loss: 0.7790 - accuracy: 0.6441 - val_loss: 0.7558 - val_accuracy: 0.6592\n",
      "Epoch 4/20\n",
      "498/498 [==============================] - 114s 228ms/step - loss: 0.7557 - accuracy: 0.6630 - val_loss: 0.7174 - val_accuracy: 0.6838\n",
      "Epoch 5/20\n",
      "498/498 [==============================] - 110s 222ms/step - loss: 0.7311 - accuracy: 0.6721 - val_loss: 0.7145 - val_accuracy: 0.6931\n",
      "Epoch 6/20\n",
      "498/498 [==============================] - 105s 211ms/step - loss: 0.7135 - accuracy: 0.6856 - val_loss: 0.6871 - val_accuracy: 0.6969\n",
      "Epoch 7/20\n",
      "498/498 [==============================] - 106s 212ms/step - loss: 0.6934 - accuracy: 0.6920 - val_loss: 0.6966 - val_accuracy: 0.6941\n",
      "Epoch 8/20\n",
      "498/498 [==============================] - 108s 217ms/step - loss: 0.6779 - accuracy: 0.7018 - val_loss: 0.6734 - val_accuracy: 0.7067\n",
      "Epoch 9/20\n",
      "498/498 [==============================] - 108s 217ms/step - loss: 0.6648 - accuracy: 0.7119 - val_loss: 0.6665 - val_accuracy: 0.7155\n",
      "Epoch 10/20\n",
      "498/498 [==============================] - 123s 247ms/step - loss: 0.6491 - accuracy: 0.7213 - val_loss: 0.6493 - val_accuracy: 0.7223\n",
      "Epoch 11/20\n",
      "498/498 [==============================] - 119s 238ms/step - loss: 0.6324 - accuracy: 0.7276 - val_loss: 0.6477 - val_accuracy: 0.7165\n",
      "Epoch 12/20\n",
      "498/498 [==============================] - 117s 236ms/step - loss: 0.6206 - accuracy: 0.7310 - val_loss: 0.6431 - val_accuracy: 0.7230\n",
      "Epoch 13/20\n",
      "498/498 [==============================] - 116s 234ms/step - loss: 0.6021 - accuracy: 0.7400 - val_loss: 0.6465 - val_accuracy: 0.7137\n",
      "Epoch 14/20\n",
      "498/498 [==============================] - 111s 222ms/step - loss: 0.5916 - accuracy: 0.7464 - val_loss: 0.6335 - val_accuracy: 0.7255\n",
      "Epoch 15/20\n",
      "498/498 [==============================] - 112s 226ms/step - loss: 0.5807 - accuracy: 0.7528 - val_loss: 0.6250 - val_accuracy: 0.7328\n",
      "Epoch 16/20\n",
      "498/498 [==============================] - 115s 231ms/step - loss: 0.5679 - accuracy: 0.7551 - val_loss: 0.6192 - val_accuracy: 0.7325\n",
      "Epoch 17/20\n",
      "498/498 [==============================] - 110s 222ms/step - loss: 0.5586 - accuracy: 0.7639 - val_loss: 0.6101 - val_accuracy: 0.7413\n",
      "Epoch 18/20\n",
      "498/498 [==============================] - 111s 224ms/step - loss: 0.5447 - accuracy: 0.7754 - val_loss: 0.6158 - val_accuracy: 0.7474\n",
      "Epoch 19/20\n",
      "498/498 [==============================] - 115s 230ms/step - loss: 0.5314 - accuracy: 0.7771 - val_loss: 0.6141 - val_accuracy: 0.7383\n",
      "Epoch 20/20\n",
      "498/498 [==============================] - 113s 226ms/step - loss: 0.5214 - accuracy: 0.7803 - val_loss: 0.6266 - val_accuracy: 0.7361\n"
     ]
    }
   ],
   "source": [
    "history = model.fit(\n",
    "    X_train, \n",
    "    y_train, \n",
    "    batch_size=32,\n",
    "    validation_data=(X_test, y_test), \n",
    "    epochs=20,\n",
    "    validation_split=0.3\n",
    ")"
   ]
  },
  {
   "cell_type": "code",
   "execution_count": 33,
   "metadata": {},
   "outputs": [
    {
     "data": {
      "image/png": "[encoded data removed]",
      "text/plain": [
       "<Figure size 432x288 with 1 Axes>"
      ]
     },
     "metadata": {
      "needs_background": "light"
     },
     "output_type": "display_data"
    }
   ],
   "source": [
    "plt.plot(history.history['accuracy'])\n",
    "plt.plot(history.history['loss'])\n",
    "plt.title('Age detection accuracy')\n",
    "plt.ylabel('Accuracy')\n",
    "plt.xlabel('Epoch')\n",
    "plt.legend(['Accuracy', 'Loss'])\n",
    "plt.show()"
   ]
  },
  {
   "cell_type": "markdown",
   "metadata": {},
   "source": [
    "#### Test model"
   ]
  },
  {
   "cell_type": "code",
   "execution_count": null,
   "metadata": {},
   "outputs": [],
   "source": [
    "image_test = X_test[0].reshape(-1,IMAGE_SIZE,IMAGE_SIZE,1)\n",
    "prediction = model.predict([image_test])\n",
    "print(f'Test: {y_test[0]} Model: {prediction}')"
   ]
  },
  {
   "cell_type": "code",
   "execution_count": null,
   "metadata": {},
   "outputs": [],
   "source": [
    "prediction = model.predict(image_test)\n",
    "prediction"
   ]
  },
  {
   "cell_type": "code",
   "execution_count": null,
   "metadata": {},
   "outputs": [],
   "source": [
    "plt.imshow(image_test.reshape(28,28))"
   ]
  },
  {
   "cell_type": "markdown",
   "metadata": {},
   "source": [
    "### 4.2 Second Model"
   ]
  },
  {
   "cell_type": "code",
   "execution_count": 169,
   "metadata": {},
   "outputs": [],
   "source": [
    "model = tf.keras.Sequential([\n",
    "    tf.keras.layers.Conv2D(32, (3, 3), input_shape=X_data.shape[1:], activation=tf.nn.relu),\n",
    "    tf.keras.layers.MaxPooling2D(2, 2),\n",
    "    \n",
    "    tf.keras.layers.Conv2D(64, (3, 3), activation=tf.nn.relu),\n",
    "    tf.keras.layers.MaxPooling2D(2, 2),\n",
    "\n",
    "    tf.keras.layers.Conv2D(128, (3, 3), activation=tf.nn.relu),\n",
    "    tf.keras.layers.MaxPooling2D(2, 2),\n",
    "\n",
    "    tf.keras.layers.Dropout(0.5), # Disable some neurons to improve the CNN\n",
    "    \n",
    "    tf.keras.layers.Flatten(),\n",
    "    tf.keras.layers.Dense(units=512, activation=tf.nn.relu),\n",
    "    tf.keras.layers.Dense(3, activation=tf.nn.softmax)\n",
    "])\n"
   ]
  },
  {
   "cell_type": "code",
   "execution_count": 170,
   "metadata": {},
   "outputs": [],
   "source": [
    "model.compile(\n",
    "        optimizer=tf.keras.optimizers.Adam(),\n",
    "        loss=tf.keras.losses.SparseCategoricalCrossentropy(),\n",
    "        metrics=['accuracy']\n",
    "        )"
   ]
  },
  {
   "cell_type": "markdown",
   "metadata": {},
   "source": [
    "#### Manual"
   ]
  },
  {
   "cell_type": "code",
   "execution_count": 104,
   "metadata": {},
   "outputs": [],
   "source": [
    "model.compile(\n",
    "    optimizer=tf.keras.optimizers.Adam(),\n",
    "    loss=tf.keras.losses.SparseCategoricalCrossentropy(),\n",
    "    metrics=['accuracy']\n",
    ")"
   ]
  },
  {
   "cell_type": "code",
   "execution_count": 108,
   "metadata": {},
   "outputs": [
    {
     "name": "stdout",
     "output_type": "stream",
     "text": [
      "Epoch 1/10\n",
      "180/180 [==============================] - 22s 122ms/step - loss: 0.7967 - accuracy: 0.6490 - val_loss: 0.8262 - val_accuracy: 0.6238\n",
      "Epoch 2/10\n",
      "180/180 [==============================] - 23s 128ms/step - loss: 0.7750 - accuracy: 0.6600 - val_loss: 0.8395 - val_accuracy: 0.6231\n",
      "Epoch 3/10\n",
      "180/180 [==============================] - 27s 147ms/step - loss: 0.7526 - accuracy: 0.6663 - val_loss: 0.8113 - val_accuracy: 0.6377\n",
      "Epoch 4/10\n",
      "180/180 [==============================] - 27s 147ms/step - loss: 0.7297 - accuracy: 0.6784 - val_loss: 0.8330 - val_accuracy: 0.6356\n",
      "Epoch 5/10\n",
      "180/180 [==============================] - 27s 148ms/step - loss: 0.7152 - accuracy: 0.6929 - val_loss: 0.8090 - val_accuracy: 0.6426\n",
      "Epoch 6/10\n",
      "180/180 [==============================] - 27s 149ms/step - loss: 0.6914 - accuracy: 0.7005 - val_loss: 0.7973 - val_accuracy: 0.6558\n",
      "Epoch 7/10\n",
      "180/180 [==============================] - 26s 146ms/step - loss: 0.6642 - accuracy: 0.7193 - val_loss: 0.7620 - val_accuracy: 0.6780\n",
      "Epoch 8/10\n",
      "180/180 [==============================] - 26s 146ms/step - loss: 0.6542 - accuracy: 0.7158 - val_loss: 0.8012 - val_accuracy: 0.6516\n",
      "Epoch 9/10\n",
      "180/180 [==============================] - 24s 132ms/step - loss: 0.6305 - accuracy: 0.7237 - val_loss: 0.8198 - val_accuracy: 0.6572\n",
      "Epoch 10/10\n",
      "180/180 [==============================] - 24s 135ms/step - loss: 0.6030 - accuracy: 0.7443 - val_loss: 0.7774 - val_accuracy: 0.6843\n"
     ]
    }
   ],
   "source": [
    "history_2 = model.fit(\n",
    "    X_train, \n",
    "    y_train, \n",
    "    batch_size=32,\n",
    "    validation_data=(X_test, y_test), \n",
    "    epochs=10,\n",
    "    validation_split=0.3\n",
    ")"
   ]
  },
  {
   "cell_type": "code",
   "execution_count": 109,
   "metadata": {},
   "outputs": [
    {
     "name": "stderr",
     "output_type": "stream",
     "text": [
      "WARNING:absl:Found untraced functions such as _jit_compiled_convolution_op, _jit_compiled_convolution_op, _jit_compiled_convolution_op while saving (showing 3 of 3). These functions will not be directly callable after loading.\n"
     ]
    },
    {
     "name": "stdout",
     "output_type": "stream",
     "text": [
      "INFO:tensorflow:Assets written to: ./age_detection_data/model2.model/assets\n"
     ]
    },
    {
     "name": "stderr",
     "output_type": "stream",
     "text": [
      "INFO:tensorflow:Assets written to: ./age_detection_data/model2.model/assets\n"
     ]
    }
   ],
   "source": [
    "model.save('./age_detection_data/model2.model')"
   ]
  },
  {
   "cell_type": "code",
   "execution_count": 110,
   "metadata": {},
   "outputs": [
    {
     "data": {
      "image/png": "[encoded data removed]",
      "text/plain": [
       "<Figure size 432x288 with 1 Axes>"
      ]
     },
     "metadata": {
      "needs_background": "light"
     },
     "output_type": "display_data"
    }
   ],
   "source": [
    "plt.plot(history_2.history['accuracy'])\n",
    "plt.title('Age detection accuracy')\n",
    "plt.ylabel('Accuracy')\n",
    "plt.xlabel('Epoch')\n",
    "plt.show()"
   ]
  },
  {
   "cell_type": "markdown",
   "metadata": {},
   "source": [
    "#### Using general functions"
   ]
  },
  {
   "cell_type": "code",
   "execution_count": 171,
   "metadata": {},
   "outputs": [
    {
     "name": "stdout",
     "output_type": "stream",
     "text": [
      "Epoch 1/25\n",
      "180/180 [==============================] - 28s 147ms/step - loss: 1.0476 - accuracy: 0.4350 - val_loss: 0.9708 - val_accuracy: 0.5459\n",
      "Epoch 2/25\n",
      "180/180 [==============================] - 24s 134ms/step - loss: 0.9331 - accuracy: 0.5743 - val_loss: 0.9168 - val_accuracy: 0.5807\n",
      "Epoch 3/25\n",
      "180/180 [==============================] - 24s 131ms/step - loss: 0.8841 - accuracy: 0.5990 - val_loss: 0.8943 - val_accuracy: 0.5821\n",
      "Epoch 4/25\n",
      "180/180 [==============================] - 23s 129ms/step - loss: 0.8400 - accuracy: 0.6277 - val_loss: 0.8555 - val_accuracy: 0.6036\n",
      "Epoch 5/25\n",
      "180/180 [==============================] - 27s 150ms/step - loss: 0.8058 - accuracy: 0.6414 - val_loss: 0.8387 - val_accuracy: 0.6175\n",
      "Epoch 6/25\n",
      "180/180 [==============================] - 24s 134ms/step - loss: 0.7873 - accuracy: 0.6543 - val_loss: 0.8210 - val_accuracy: 0.6370\n",
      "Epoch 7/25\n",
      "180/180 [==============================] - 24s 131ms/step - loss: 0.7472 - accuracy: 0.6730 - val_loss: 0.7924 - val_accuracy: 0.6460\n",
      "Epoch 8/25\n",
      "180/180 [==============================] - 23s 129ms/step - loss: 0.7399 - accuracy: 0.6842 - val_loss: 0.8114 - val_accuracy: 0.6314\n",
      "Epoch 9/25\n",
      "180/180 [==============================] - 26s 145ms/step - loss: 0.7093 - accuracy: 0.6990 - val_loss: 0.7772 - val_accuracy: 0.6683\n",
      "Epoch 10/25\n",
      "180/180 [==============================] - 25s 137ms/step - loss: 0.6867 - accuracy: 0.7043 - val_loss: 0.7836 - val_accuracy: 0.6516\n",
      "Epoch 11/25\n",
      "180/180 [==============================] - 25s 140ms/step - loss: 0.6654 - accuracy: 0.7157 - val_loss: 0.8357 - val_accuracy: 0.6391\n",
      "Epoch 12/25\n",
      "180/180 [==============================] - 24s 131ms/step - loss: 0.6410 - accuracy: 0.7256 - val_loss: 0.7646 - val_accuracy: 0.6697\n",
      "Epoch 13/25\n",
      "180/180 [==============================] - 24s 133ms/step - loss: 0.6187 - accuracy: 0.7337 - val_loss: 0.7694 - val_accuracy: 0.6745\n",
      "Epoch 14/25\n",
      "180/180 [==============================] - 22s 125ms/step - loss: 0.5880 - accuracy: 0.7487 - val_loss: 0.7637 - val_accuracy: 0.6711\n",
      "Epoch 15/25\n",
      "180/180 [==============================] - 23s 126ms/step - loss: 0.5654 - accuracy: 0.7633 - val_loss: 0.8003 - val_accuracy: 0.6648\n",
      "Epoch 16/25\n",
      "180/180 [==============================] - 24s 131ms/step - loss: 0.5341 - accuracy: 0.7774 - val_loss: 0.7763 - val_accuracy: 0.6697\n",
      "Epoch 17/25\n",
      "180/180 [==============================] - 24s 133ms/step - loss: 0.5153 - accuracy: 0.7831 - val_loss: 0.7897 - val_accuracy: 0.6718\n",
      "Epoch 18/25\n",
      "180/180 [==============================] - 23s 126ms/step - loss: 0.5017 - accuracy: 0.7847 - val_loss: 0.7679 - val_accuracy: 0.6773\n",
      "Epoch 19/25\n",
      "180/180 [==============================] - 27s 149ms/step - loss: 0.4787 - accuracy: 0.8031 - val_loss: 0.7996 - val_accuracy: 0.6766\n",
      "Epoch 20/25\n",
      "180/180 [==============================] - 25s 140ms/step - loss: 0.4664 - accuracy: 0.8028 - val_loss: 0.7685 - val_accuracy: 0.6898\n",
      "Epoch 21/25\n",
      "180/180 [==============================] - 23s 129ms/step - loss: 0.4439 - accuracy: 0.8122 - val_loss: 0.8364 - val_accuracy: 0.6752\n",
      "Epoch 22/25\n",
      "180/180 [==============================] - 25s 136ms/step - loss: 0.4182 - accuracy: 0.8256 - val_loss: 0.8769 - val_accuracy: 0.6815\n",
      "Epoch 23/25\n",
      "180/180 [==============================] - 39s 217ms/step - loss: 0.4138 - accuracy: 0.8311 - val_loss: 0.8023 - val_accuracy: 0.6794\n",
      "Epoch 24/25\n",
      "180/180 [==============================] - 43s 236ms/step - loss: 0.3856 - accuracy: 0.8435 - val_loss: 0.8636 - val_accuracy: 0.6822\n",
      "Epoch 25/25\n",
      "180/180 [==============================] - 34s 188ms/step - loss: 0.3646 - accuracy: 0.8565 - val_loss: 0.8462 - val_accuracy: 0.6843\n"
     ]
    },
    {
     "name": "stderr",
     "output_type": "stream",
     "text": [
      "WARNING:absl:Found untraced functions such as _jit_compiled_convolution_op, _jit_compiled_convolution_op, _jit_compiled_convolution_op while saving (showing 3 of 3). These functions will not be directly callable after loading.\n"
     ]
    },
    {
     "name": "stdout",
     "output_type": "stream",
     "text": [
      "INFO:tensorflow:Assets written to: ./age_detection_data/model3.model/assets\n"
     ]
    },
    {
     "name": "stderr",
     "output_type": "stream",
     "text": [
      "INFO:tensorflow:Assets written to: ./age_detection_data/model3.model/assets\n"
     ]
    },
    {
     "data": {
      "image/png": "[encoded data removed]",
      "text/plain": [
       "<Figure size 432x288 with 1 Axes>"
      ]
     },
     "metadata": {
      "needs_background": "light"
     },
     "output_type": "display_data"
    }
   ],
   "source": [
    "hystory, model_fit = run_model(model, 'model3.model')"
   ]
  },
  {
   "cell_type": "markdown",
   "metadata": {},
   "source": [
    "##### Test model"
   ]
  },
  {
   "cell_type": "code",
   "execution_count": 172,
   "metadata": {},
   "outputs": [
    {
     "name": "stdout",
     "output_type": "stream",
     "text": [
      "45/45 [==============================] - 2s 44ms/step\n"
     ]
    },
    {
     "data": {
      "image/png": "[encoded data removed]",
      "text/plain": [
       "<Figure size 432x288 with 2 Axes>"
      ]
     },
     "metadata": {
      "needs_background": "light"
     },
     "output_type": "display_data"
    },
    {
     "name": "stdout",
     "output_type": "stream",
     "text": [
      "              precision    recall  f1-score   support\n",
      "\n",
      "           0       0.71      0.74      0.73       516\n",
      "           1       0.63      0.59      0.61       480\n",
      "           2       0.70      0.72      0.71       442\n",
      "\n",
      "    accuracy                           0.68      1438\n",
      "   macro avg       0.68      0.68      0.68      1438\n",
      "weighted avg       0.68      0.68      0.68      1438\n",
      "\n"
     ]
    }
   ],
   "source": [
    "test_model(model_fit, X_test, y_test)"
   ]
  }
 ],
 "metadata": {
  "kernelspec": {
   "display_name": "Python 3.8.10 ('venv': venv)",
   "language": "python",
   "name": "python3"
  },
  "language_info": {
   "codemirror_mode": {
    "name": "ipython",
    "version": 3
   },
   "file_extension": ".py",
   "mimetype": "text/x-python",
   "name": "python",
   "nbconvert_exporter": "python",
   "pygments_lexer": "ipython3",
   "version": "3.8.10"
  },
  "orig_nbformat": 4,
  "vscode": {
   "interpreter": {
    "hash": "7ca0cbfb4fc162a1bd0d5bee6cfd1193c91dc4b7605f3792a653f95917a8a75b"
   }
  }
 },
 "nbformat": 4,
 "nbformat_minor": 2
}
