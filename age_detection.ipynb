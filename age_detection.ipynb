{
 "cells": [
  {
   "cell_type": "markdown",
   "metadata": {},
   "source": [
    "# Age Detection Dataset\n",
    "\n",
    "Predict the age of an Actor or Actress from facial attributes\n",
    "\n",
    "Source: [Kaggle](https://www.kaggle.com/datasets/arashnic/faces-age-detection-dataset?select=train.csv)\n",
    "\n",
    "---\n",
    "\n",
    "## About Dataset\n",
    "\n",
    "### Context\n",
    "\n",
    "Recently, many applications from biometrics,to entertainment use the information extracted from face images that contain information about age, gender, ethnic background, and emotional state. Automatic age estimation from facial images is one of the popular and challenging tasks that have different fields of applications such as controlling the content of the watched media depending on the customer's age.\n",
    "So facial feature analysis has been a topic of interest mainly due to its applicability and Deep Learning techniques are now making it possible for face analysis to be not just a dream but a reality. This simple practice dataset can get you more acquainted with application of deep learning in age detection.\n",
    "\n",
    "### Content\n",
    "\n",
    "Indian Movie Face database (IMFDB) is a large unconstrained face database consisting of 34512 images of 100 Indian actors collected from more than 100 videos. All the images are manually selected and cropped from the video frames resulting in a high degree of variability interms of scale, pose, expression, illumination, age, resolution, occlusion, and makeup. IMFDB is the first face database that provides a detailed annotation of every image in terms of age, pose, gender, expression and type of occlusion that may help other face related applications.\n",
    "\n",
    "The dataset provided a total of 19906 images.The attributes of data are as follows:\n",
    "\n",
    "* ID – Unique ID of image\n",
    "* Class – Age bin of person in image\n",
    "\n",
    "---"
   ]
  },
  {
   "cell_type": "markdown",
   "metadata": {},
   "source": [
    "## 1. Import Libraries"
   ]
  },
  {
   "cell_type": "code",
   "execution_count": 22,
   "metadata": {},
   "outputs": [],
   "source": [
    "# Import libraries\n",
    "\n",
    "import numpy as np\n",
    "import pandas as pd\n",
    "import os\n",
    "\n",
    "import tensorflow as tf\n",
    "from keras import layers, models\n",
    "import cv2 # To read photos\n",
    "import pickle # To save the data\n",
    "from sklearn.model_selection import train_test_split # To split the data\n",
    "\n",
    "import matplotlib.pyplot as plt"
   ]
  },
  {
   "cell_type": "markdown",
   "metadata": {},
   "source": [
    "## 2. Read and clean data"
   ]
  },
  {
   "cell_type": "code",
   "execution_count": 2,
   "metadata": {},
   "outputs": [],
   "source": [
    "# Images path\n",
    "path = './data/age/'\n",
    "image_path = './data/age/Train/'"
   ]
  },
  {
   "cell_type": "code",
   "execution_count": 3,
   "metadata": {},
   "outputs": [
    {
     "data": {
      "text/plain": [
       "<bound method NDFrame.head of               ID   Class\n",
       "0        377.jpg  MIDDLE\n",
       "1      17814.jpg   YOUNG\n",
       "2      21283.jpg  MIDDLE\n",
       "3      16496.jpg   YOUNG\n",
       "4       4487.jpg  MIDDLE\n",
       "...          ...     ...\n",
       "19901   2482.jpg  MIDDLE\n",
       "19902  20085.jpg   YOUNG\n",
       "19903  19663.jpg  MIDDLE\n",
       "19904  10132.jpg  MIDDLE\n",
       "19905   9896.jpg  MIDDLE\n",
       "\n",
       "[19906 rows x 2 columns]>"
      ]
     },
     "execution_count": 3,
     "metadata": {},
     "output_type": "execute_result"
    }
   ],
   "source": [
    "# Read csv with image information\n",
    "df = pd.read_csv(f'{path}train.csv')\n",
    "df.head"
   ]
  },
  {
   "cell_type": "code",
   "execution_count": 4,
   "metadata": {},
   "outputs": [
    {
     "data": {
      "text/plain": [
       "<AxesSubplot:>"
      ]
     },
     "execution_count": 4,
     "metadata": {},
     "output_type": "execute_result"
    },
    {
     "data": {
      "image/png": "[encoded data removed]",
      "text/plain": [
       "<Figure size 432x288 with 1 Axes>"
      ]
     },
     "metadata": {
      "needs_background": "light"
     },
     "output_type": "display_data"
    }
   ],
   "source": [
    "# Check classes\n",
    "df['Class'].hist()"
   ]
  },
  {
   "cell_type": "markdown",
   "metadata": {},
   "source": [
    "#### Create dummy variable for class"
   ]
  },
  {
   "cell_type": "code",
   "execution_count": 5,
   "metadata": {},
   "outputs": [
    {
     "data": {
      "text/html": [
       "<div>\n",
       "<style scoped>\n",
       "    .dataframe tbody tr th:only-of-type {\n",
       "        vertical-align: middle;\n",
       "    }\n",
       "\n",
       "    .dataframe tbody tr th {\n",
       "        vertical-align: top;\n",
       "    }\n",
       "\n",
       "    .dataframe thead th {\n",
       "        text-align: right;\n",
       "    }\n",
       "</style>\n",
       "<table border=\"1\" class=\"dataframe\">\n",
       "  <thead>\n",
       "    <tr style=\"text-align: right;\">\n",
       "      <th></th>\n",
       "      <th>ID</th>\n",
       "      <th>Class</th>\n",
       "      <th>Category</th>\n",
       "    </tr>\n",
       "  </thead>\n",
       "  <tbody>\n",
       "    <tr>\n",
       "      <th>0</th>\n",
       "      <td>377.jpg</td>\n",
       "      <td>MIDDLE</td>\n",
       "      <td>0</td>\n",
       "    </tr>\n",
       "    <tr>\n",
       "      <th>1</th>\n",
       "      <td>17814.jpg</td>\n",
       "      <td>YOUNG</td>\n",
       "      <td>2</td>\n",
       "    </tr>\n",
       "    <tr>\n",
       "      <th>2</th>\n",
       "      <td>21283.jpg</td>\n",
       "      <td>MIDDLE</td>\n",
       "      <td>0</td>\n",
       "    </tr>\n",
       "    <tr>\n",
       "      <th>3</th>\n",
       "      <td>16496.jpg</td>\n",
       "      <td>YOUNG</td>\n",
       "      <td>2</td>\n",
       "    </tr>\n",
       "    <tr>\n",
       "      <th>4</th>\n",
       "      <td>4487.jpg</td>\n",
       "      <td>MIDDLE</td>\n",
       "      <td>0</td>\n",
       "    </tr>\n",
       "    <tr>\n",
       "      <th>...</th>\n",
       "      <td>...</td>\n",
       "      <td>...</td>\n",
       "      <td>...</td>\n",
       "    </tr>\n",
       "    <tr>\n",
       "      <th>19901</th>\n",
       "      <td>2482.jpg</td>\n",
       "      <td>MIDDLE</td>\n",
       "      <td>0</td>\n",
       "    </tr>\n",
       "    <tr>\n",
       "      <th>19902</th>\n",
       "      <td>20085.jpg</td>\n",
       "      <td>YOUNG</td>\n",
       "      <td>2</td>\n",
       "    </tr>\n",
       "    <tr>\n",
       "      <th>19903</th>\n",
       "      <td>19663.jpg</td>\n",
       "      <td>MIDDLE</td>\n",
       "      <td>0</td>\n",
       "    </tr>\n",
       "    <tr>\n",
       "      <th>19904</th>\n",
       "      <td>10132.jpg</td>\n",
       "      <td>MIDDLE</td>\n",
       "      <td>0</td>\n",
       "    </tr>\n",
       "    <tr>\n",
       "      <th>19905</th>\n",
       "      <td>9896.jpg</td>\n",
       "      <td>MIDDLE</td>\n",
       "      <td>0</td>\n",
       "    </tr>\n",
       "  </tbody>\n",
       "</table>\n",
       "<p>19906 rows × 3 columns</p>\n",
       "</div>"
      ],
      "text/plain": [
       "              ID   Class  Category\n",
       "0        377.jpg  MIDDLE         0\n",
       "1      17814.jpg   YOUNG         2\n",
       "2      21283.jpg  MIDDLE         0\n",
       "3      16496.jpg   YOUNG         2\n",
       "4       4487.jpg  MIDDLE         0\n",
       "...          ...     ...       ...\n",
       "19901   2482.jpg  MIDDLE         0\n",
       "19902  20085.jpg   YOUNG         2\n",
       "19903  19663.jpg  MIDDLE         0\n",
       "19904  10132.jpg  MIDDLE         0\n",
       "19905   9896.jpg  MIDDLE         0\n",
       "\n",
       "[19906 rows x 3 columns]"
      ]
     },
     "execution_count": 5,
     "metadata": {},
     "output_type": "execute_result"
    }
   ],
   "source": [
    "# Create numeric column for categories\n",
    "# 0: Young, 1: Middle, 2: Old\n",
    "\n",
    "classes = [0, 1, 2]\n",
    "\n",
    "df.Class = df.Class.astype('category')\n",
    "df['Category'] = df.Class.cat.codes\n",
    "df"
   ]
  },
  {
   "cell_type": "code",
   "execution_count": 6,
   "metadata": {},
   "outputs": [
    {
     "data": {
      "text/plain": [
       "array(['MIDDLE', 0, 'YOUNG', 2, 'OLD', 1], dtype=object)"
      ]
     },
     "execution_count": 6,
     "metadata": {},
     "output_type": "execute_result"
    }
   ],
   "source": [
    "# Check the ids\n",
    "pd.unique(df[['Class', 'Category']].values.ravel())"
   ]
  },
  {
   "cell_type": "code",
   "execution_count": 7,
   "metadata": {},
   "outputs": [
    {
     "name": "stdout",
     "output_type": "stream",
     "text": [
      "(65, 48)\n"
     ]
    },
    {
     "data": {
      "text/plain": [
       "<matplotlib.image.AxesImage at 0x7f0ae4bd3520>"
      ]
     },
     "execution_count": 7,
     "metadata": {},
     "output_type": "execute_result"
    },
    {
     "data": {
      "image/png": "[encoded data removed]",
      "text/plain": [
       "<Figure size 432x288 with 1 Axes>"
      ]
     },
     "metadata": {
      "needs_background": "light"
     },
     "output_type": "display_data"
    }
   ],
   "source": [
    "# Test read images\n",
    "photo = cv2.imread(os.path.join(image_path, df['ID'][10]), cv2.IMREAD_GRAYSCALE)\n",
    "print(photo.shape)\n",
    "plt.imshow(photo, 'gray')"
   ]
  },
  {
   "cell_type": "code",
   "execution_count": 8,
   "metadata": {},
   "outputs": [
    {
     "data": {
      "text/plain": [
       "numpy.ndarray"
      ]
     },
     "execution_count": 8,
     "metadata": {},
     "output_type": "execute_result"
    }
   ],
   "source": [
    "temp_resize = cv2.resize(photo,(28, 28))\n",
    "type(temp_resize)"
   ]
  },
  {
   "cell_type": "markdown",
   "metadata": {},
   "source": [
    "# 3. Read photos and create dataset"
   ]
  },
  {
   "cell_type": "code",
   "execution_count": 9,
   "metadata": {},
   "outputs": [],
   "source": [
    "# Read photos\n",
    "def read_photo(im_path: str, IMAGE_SIZE: int):\n",
    "    \"\"\"\n",
    "    Read photo from path and return a Numpy array of image\n",
    "    :return: image_temp_resize\n",
    "    \"\"\"\n",
    "    image_data_temp = cv2.imread(im_path, cv2.IMREAD_GRAYSCALE)                 # Read Image on gray scale\n",
    "    image_temp_resize = cv2.resize(image_data_temp,(IMAGE_SIZE, IMAGE_SIZE))    # Resize photo\n",
    "    return image_temp_resize"
   ]
  },
  {
   "cell_type": "code",
   "execution_count": 33,
   "metadata": {},
   "outputs": [],
   "source": [
    "# Create x_data and y_data\n",
    "def build_data(x_temp: list, y_temp: list, IMAGE_SIZE: int):\n",
    "    X_temp = np.asanyarray(x_temp) / 255                          # Normalize data\n",
    "    \n",
    "    X_temp = X_temp.reshape(-1, IMAGE_SIZE, IMAGE_SIZE, 1)\n",
    "    Y_temp = np.asarray(y_temp)\n",
    "\n",
    "    return X_temp, Y_temp"
   ]
  },
  {
   "cell_type": "code",
   "execution_count": 46,
   "metadata": {},
   "outputs": [],
   "source": [
    "IMAGE_SIZE = 28"
   ]
  },
  {
   "cell_type": "code",
   "execution_count": 34,
   "metadata": {},
   "outputs": [],
   "source": [
    "# Read all pictures and save in variables\n",
    "\n",
    "# Init variables to append the info\n",
    "x_temp = []\n",
    "y_temp = []\n",
    "\n",
    "for index, row in df.iterrows():\n",
    "    try:\n",
    "        path_image = os.path.join(image_path, row['ID'])\n",
    "        image_resize = read_photo(path_image, IMAGE_SIZE)\n",
    "        \n",
    "        x_temp.append(image_resize)\n",
    "        y_temp.append(row['Category'])\n",
    "        \n",
    "        if index >= 1000:\n",
    "            break\n",
    "    except Exception as e:\n",
    "        print(f\"Error trying to read {row['ID']} Error {e}\")\n",
    "        continue"
   ]
  },
  {
   "cell_type": "code",
   "execution_count": 41,
   "metadata": {},
   "outputs": [],
   "source": [
    "# Create final data in features and label\n",
    "\n",
    "X_features, Y_labels = build_data(x_temp, y_temp, IMAGE_SIZE)"
   ]
  },
  {
   "cell_type": "markdown",
   "metadata": {},
   "source": [
    "### 3.1. Save features and labels to reuse"
   ]
  },
  {
   "cell_type": "code",
   "execution_count": 42,
   "metadata": {},
   "outputs": [],
   "source": [
    "pickle_out = open('X_features','wb')\n",
    "pickle.dump(X_features, pickle_out)\n",
    "pickle_out.close()\n",
    "\n",
    "# Write the Y Label Data\n",
    "pickle_out = open('Y_labels', 'wb')\n",
    "pickle.dump(Y_labels, pickle_out)\n",
    "pickle_out.close()"
   ]
  },
  {
   "cell_type": "markdown",
   "metadata": {},
   "source": [
    "# 4. Create Model"
   ]
  },
  {
   "cell_type": "code",
   "execution_count": 45,
   "metadata": {},
   "outputs": [
    {
     "name": "stdout",
     "output_type": "stream",
     "text": [
      "(1001, 28, 28, 1)\n",
      "(1001,)\n"
     ]
    }
   ],
   "source": [
    "# Get the X and Y data from pickle\n",
    "X_Temp = open('X_features','rb')\n",
    "X_data = pickle.load(X_Temp)\n",
    "print(X_data.shape)\n",
    "\n",
    "Y_Temp = open('Y_labels','rb')\n",
    "Y_data = pickle.load(Y_Temp)\n",
    "print(Y_data.shape)"
   ]
  },
  {
   "cell_type": "code",
   "execution_count": 50,
   "metadata": {},
   "outputs": [],
   "source": [
    "# Split dataset\n",
    "X_train, X_test, y_train, y_test = train_test_split(X_data, Y_data, test_size=0.2)"
   ]
  },
  {
   "cell_type": "code",
   "execution_count": 55,
   "metadata": {},
   "outputs": [],
   "source": [
    "model = tf.keras.Sequential([\n",
    "    tf.keras.layers.Conv2D(150, (3, 3), input_shape=X_data.shape[1:], activation='relu'),\n",
    "    tf.keras.layers.MaxPooling2D(2, 2),\n",
    "    \n",
    "    tf.keras.layers.Conv2D(75, (3, 3), activation='relu'),\n",
    "    tf.keras.layers.MaxPooling2D(2, 2),\n",
    "\n",
    "    tf.keras.layers.Dropout(0.5), # Disable some neurons to improve the CNN\n",
    "    \n",
    "    tf.keras.layers.Flatten(),\n",
    "    tf.keras.layers.Dense(units=100, activation='relu'),\n",
    "    tf.keras.layers.Dense(3, activation='softmax')\n",
    "])"
   ]
  },
  {
   "cell_type": "code",
   "execution_count": 56,
   "metadata": {},
   "outputs": [],
   "source": [
    "model.compile(\n",
    "    optimizer='adam',\n",
    "    loss=tf.keras.losses.SparseCategoricalCrossentropy(),\n",
    "    metrics=['accuracy']\n",
    ")"
   ]
  },
  {
   "cell_type": "code",
   "execution_count": 67,
   "metadata": {},
   "outputs": [
    {
     "name": "stdout",
     "output_type": "stream",
     "text": [
      "Epoch 1/60\n",
      "25/25 [==============================] - 6s 236ms/step - loss: 0.9196 - accuracy: 0.5525 - val_loss: 0.8743 - val_accuracy: 0.6219\n",
      "Epoch 2/60\n",
      "25/25 [==============================] - 6s 225ms/step - loss: 0.9048 - accuracy: 0.5775 - val_loss: 0.8817 - val_accuracy: 0.5721\n",
      "Epoch 3/60\n",
      "25/25 [==============================] - 5s 216ms/step - loss: 0.8525 - accuracy: 0.6200 - val_loss: 0.8971 - val_accuracy: 0.5871\n",
      "Epoch 4/60\n",
      "25/25 [==============================] - 8s 329ms/step - loss: 0.8665 - accuracy: 0.5900 - val_loss: 0.8482 - val_accuracy: 0.6169\n",
      "Epoch 5/60\n",
      "25/25 [==============================] - 9s 362ms/step - loss: 0.8383 - accuracy: 0.6025 - val_loss: 0.8585 - val_accuracy: 0.5970\n",
      "Epoch 6/60\n",
      "25/25 [==============================] - 6s 242ms/step - loss: 0.8345 - accuracy: 0.6175 - val_loss: 0.8474 - val_accuracy: 0.6119\n",
      "Epoch 7/60\n",
      "25/25 [==============================] - 7s 262ms/step - loss: 0.8211 - accuracy: 0.6137 - val_loss: 0.8515 - val_accuracy: 0.6070\n",
      "Epoch 8/60\n",
      "25/25 [==============================] - 8s 338ms/step - loss: 0.8034 - accuracy: 0.6350 - val_loss: 0.8399 - val_accuracy: 0.5970\n",
      "Epoch 9/60\n",
      "25/25 [==============================] - 7s 287ms/step - loss: 0.7864 - accuracy: 0.6587 - val_loss: 0.8443 - val_accuracy: 0.6020\n",
      "Epoch 10/60\n",
      "25/25 [==============================] - 5s 217ms/step - loss: 0.7955 - accuracy: 0.6375 - val_loss: 0.8423 - val_accuracy: 0.6070\n",
      "Epoch 11/60\n",
      "25/25 [==============================] - 6s 221ms/step - loss: 0.7936 - accuracy: 0.6363 - val_loss: 0.8366 - val_accuracy: 0.5771\n",
      "Epoch 12/60\n",
      "25/25 [==============================] - 6s 227ms/step - loss: 0.7736 - accuracy: 0.6550 - val_loss: 0.8458 - val_accuracy: 0.5721\n",
      "Epoch 13/60\n",
      "25/25 [==============================] - 6s 242ms/step - loss: 0.7500 - accuracy: 0.6737 - val_loss: 0.8419 - val_accuracy: 0.5920\n",
      "Epoch 14/60\n",
      "25/25 [==============================] - 6s 229ms/step - loss: 0.7410 - accuracy: 0.6787 - val_loss: 0.8279 - val_accuracy: 0.5920\n",
      "Epoch 15/60\n",
      "25/25 [==============================] - 5s 214ms/step - loss: 0.7245 - accuracy: 0.6825 - val_loss: 0.8410 - val_accuracy: 0.5821\n",
      "Epoch 16/60\n",
      "25/25 [==============================] - 7s 295ms/step - loss: 0.7211 - accuracy: 0.6925 - val_loss: 0.8428 - val_accuracy: 0.6119\n",
      "Epoch 17/60\n",
      "25/25 [==============================] - 8s 312ms/step - loss: 0.7124 - accuracy: 0.6837 - val_loss: 0.8241 - val_accuracy: 0.6169\n",
      "Epoch 18/60\n",
      "25/25 [==============================] - 7s 283ms/step - loss: 0.6959 - accuracy: 0.6925 - val_loss: 0.8365 - val_accuracy: 0.5920\n",
      "Epoch 19/60\n",
      "25/25 [==============================] - 7s 279ms/step - loss: 0.6829 - accuracy: 0.7100 - val_loss: 0.8224 - val_accuracy: 0.5871\n",
      "Epoch 20/60\n",
      "25/25 [==============================] - 9s 348ms/step - loss: 0.6831 - accuracy: 0.7088 - val_loss: 0.8362 - val_accuracy: 0.5970\n",
      "Epoch 21/60\n",
      "25/25 [==============================] - 7s 283ms/step - loss: 0.6599 - accuracy: 0.7212 - val_loss: 0.9045 - val_accuracy: 0.5473\n",
      "Epoch 22/60\n",
      "25/25 [==============================] - 8s 333ms/step - loss: 0.6396 - accuracy: 0.7400 - val_loss: 0.8274 - val_accuracy: 0.6318\n",
      "Epoch 23/60\n",
      "25/25 [==============================] - 8s 315ms/step - loss: 0.6316 - accuracy: 0.7375 - val_loss: 0.8350 - val_accuracy: 0.6169\n",
      "Epoch 24/60\n",
      "25/25 [==============================] - 8s 301ms/step - loss: 0.6088 - accuracy: 0.7462 - val_loss: 0.8469 - val_accuracy: 0.6418\n",
      "Epoch 25/60\n",
      "25/25 [==============================] - 7s 258ms/step - loss: 0.5924 - accuracy: 0.7550 - val_loss: 0.8701 - val_accuracy: 0.6020\n",
      "Epoch 26/60\n",
      "25/25 [==============================] - 6s 246ms/step - loss: 0.5888 - accuracy: 0.7638 - val_loss: 0.8533 - val_accuracy: 0.6070\n",
      "Epoch 27/60\n",
      "25/25 [==============================] - 7s 264ms/step - loss: 0.5794 - accuracy: 0.7588 - val_loss: 0.8772 - val_accuracy: 0.5871\n",
      "Epoch 28/60\n",
      "25/25 [==============================] - 6s 249ms/step - loss: 0.5626 - accuracy: 0.7575 - val_loss: 0.8649 - val_accuracy: 0.6169\n",
      "Epoch 29/60\n",
      "25/25 [==============================] - 7s 269ms/step - loss: 0.5476 - accuracy: 0.7775 - val_loss: 0.8720 - val_accuracy: 0.6119\n",
      "Epoch 30/60\n",
      "25/25 [==============================] - 7s 278ms/step - loss: 0.5242 - accuracy: 0.7900 - val_loss: 0.8632 - val_accuracy: 0.6020\n",
      "Epoch 31/60\n",
      "25/25 [==============================] - 6s 240ms/step - loss: 0.5104 - accuracy: 0.8037 - val_loss: 0.8867 - val_accuracy: 0.5871\n",
      "Epoch 32/60\n",
      "25/25 [==============================] - 5s 206ms/step - loss: 0.4858 - accuracy: 0.7937 - val_loss: 0.8752 - val_accuracy: 0.5871\n",
      "Epoch 33/60\n",
      "25/25 [==============================] - 5s 201ms/step - loss: 0.5038 - accuracy: 0.7875 - val_loss: 0.9012 - val_accuracy: 0.6318\n",
      "Epoch 34/60\n",
      "25/25 [==============================] - 6s 220ms/step - loss: 0.4958 - accuracy: 0.7925 - val_loss: 0.8932 - val_accuracy: 0.6119\n",
      "Epoch 35/60\n",
      "25/25 [==============================] - 5s 215ms/step - loss: 0.4770 - accuracy: 0.8200 - val_loss: 0.9205 - val_accuracy: 0.6269\n",
      "Epoch 36/60\n",
      "25/25 [==============================] - 5s 204ms/step - loss: 0.4390 - accuracy: 0.8288 - val_loss: 0.9111 - val_accuracy: 0.5970\n",
      "Epoch 37/60\n",
      "25/25 [==============================] - 5s 206ms/step - loss: 0.4424 - accuracy: 0.8338 - val_loss: 0.9149 - val_accuracy: 0.6318\n",
      "Epoch 38/60\n",
      "25/25 [==============================] - 6s 237ms/step - loss: 0.4231 - accuracy: 0.8288 - val_loss: 0.9619 - val_accuracy: 0.6070\n",
      "Epoch 39/60\n",
      "25/25 [==============================] - 7s 265ms/step - loss: 0.4312 - accuracy: 0.8338 - val_loss: 0.8952 - val_accuracy: 0.6269\n",
      "Epoch 40/60\n",
      "25/25 [==============================] - 6s 246ms/step - loss: 0.3985 - accuracy: 0.8650 - val_loss: 0.9219 - val_accuracy: 0.6169\n",
      "Epoch 41/60\n",
      "25/25 [==============================] - 6s 250ms/step - loss: 0.4141 - accuracy: 0.8275 - val_loss: 0.9421 - val_accuracy: 0.6070\n",
      "Epoch 42/60\n",
      "25/25 [==============================] - 8s 321ms/step - loss: 0.4061 - accuracy: 0.8363 - val_loss: 0.9301 - val_accuracy: 0.6070\n",
      "Epoch 43/60\n",
      "25/25 [==============================] - 6s 244ms/step - loss: 0.3826 - accuracy: 0.8525 - val_loss: 0.9616 - val_accuracy: 0.5920\n",
      "Epoch 44/60\n",
      "25/25 [==============================] - 6s 259ms/step - loss: 0.3527 - accuracy: 0.8675 - val_loss: 0.9236 - val_accuracy: 0.6269\n",
      "Epoch 45/60\n",
      "25/25 [==============================] - 6s 252ms/step - loss: 0.3565 - accuracy: 0.8612 - val_loss: 0.9882 - val_accuracy: 0.6070\n",
      "Epoch 46/60\n",
      "25/25 [==============================] - 7s 263ms/step - loss: 0.3656 - accuracy: 0.8675 - val_loss: 1.0454 - val_accuracy: 0.6219\n",
      "Epoch 47/60\n",
      "25/25 [==============================] - 7s 288ms/step - loss: 0.3269 - accuracy: 0.8875 - val_loss: 1.0326 - val_accuracy: 0.6219\n",
      "Epoch 48/60\n",
      "25/25 [==============================] - 7s 292ms/step - loss: 0.3159 - accuracy: 0.8900 - val_loss: 1.1571 - val_accuracy: 0.5920\n",
      "Epoch 49/60\n",
      "25/25 [==============================] - 8s 328ms/step - loss: 0.3010 - accuracy: 0.8888 - val_loss: 1.0372 - val_accuracy: 0.6269\n",
      "Epoch 50/60\n",
      "25/25 [==============================] - 7s 284ms/step - loss: 0.2977 - accuracy: 0.8788 - val_loss: 1.0212 - val_accuracy: 0.6219\n",
      "Epoch 51/60\n",
      "25/25 [==============================] - 7s 262ms/step - loss: 0.2611 - accuracy: 0.9112 - val_loss: 1.0859 - val_accuracy: 0.6269\n",
      "Epoch 52/60\n",
      "25/25 [==============================] - 7s 299ms/step - loss: 0.3053 - accuracy: 0.8750 - val_loss: 1.0276 - val_accuracy: 0.6070\n",
      "Epoch 53/60\n",
      "25/25 [==============================] - 9s 346ms/step - loss: 0.2666 - accuracy: 0.8950 - val_loss: 1.0983 - val_accuracy: 0.6318\n",
      "Epoch 54/60\n",
      "25/25 [==============================] - 7s 269ms/step - loss: 0.2774 - accuracy: 0.8988 - val_loss: 1.0541 - val_accuracy: 0.6318\n",
      "Epoch 55/60\n",
      "25/25 [==============================] - 7s 292ms/step - loss: 0.2478 - accuracy: 0.9075 - val_loss: 1.1182 - val_accuracy: 0.6020\n",
      "Epoch 56/60\n",
      "25/25 [==============================] - 7s 261ms/step - loss: 0.2303 - accuracy: 0.9237 - val_loss: 1.1840 - val_accuracy: 0.5920\n",
      "Epoch 57/60\n",
      "25/25 [==============================] - 6s 242ms/step - loss: 0.2337 - accuracy: 0.9287 - val_loss: 1.2015 - val_accuracy: 0.6119\n",
      "Epoch 58/60\n",
      "25/25 [==============================] - 6s 239ms/step - loss: 0.2113 - accuracy: 0.9187 - val_loss: 1.1824 - val_accuracy: 0.6020\n",
      "Epoch 59/60\n",
      "25/25 [==============================] - 6s 237ms/step - loss: 0.2050 - accuracy: 0.9225 - val_loss: 1.1662 - val_accuracy: 0.6269\n",
      "Epoch 60/60\n",
      "25/25 [==============================] - 6s 244ms/step - loss: 0.2240 - accuracy: 0.9150 - val_loss: 1.1368 - val_accuracy: 0.6219\n"
     ]
    }
   ],
   "source": [
    "history = model.fit(\n",
    "    X_train, \n",
    "    y_train, \n",
    "    batch_size=32,\n",
    "    validation_data=(X_test, y_test), \n",
    "    epochs=60,\n",
    "    #validation_split=0.3\n",
    ")"
   ]
  },
  {
   "cell_type": "code",
   "execution_count": 68,
   "metadata": {},
   "outputs": [
    {
     "data": {
      "image/png": "[encoded data removed]",
      "text/plain": [
       "<Figure size 432x288 with 1 Axes>"
      ]
     },
     "metadata": {
      "needs_background": "light"
     },
     "output_type": "display_data"
    }
   ],
   "source": [
    "plt.plot(history.history['accuracy'])\n",
    "#plt.plot(history.history['sparse_categorical_crossentropy'])\n",
    "# plt.plot(history.history['loss'])\n",
    "plt.title('model sparse_categorical_crossentropy')\n",
    "plt.ylabel('sparse_categorical_crossentropy')\n",
    "plt.xlabel('epoch')\n",
    "plt.legend(['sparse_categorical_crossentropy', 'Loss'], loc='upper left')\n",
    "plt.show()"
   ]
  },
  {
   "cell_type": "markdown",
   "metadata": {},
   "source": [
    "# 5. Test model\n"
   ]
  },
  {
   "cell_type": "code",
   "execution_count": 61,
   "metadata": {},
   "outputs": [
    {
     "name": "stdout",
     "output_type": "stream",
     "text": [
      "1/1 [==============================] - 0s 202ms/step\n",
      "Test: 2 Model: [[0.50997573 0.17073387 0.31929046]]\n"
     ]
    }
   ],
   "source": [
    "image_test = X_test[0].reshape(-1,IMAGE_SIZE,IMAGE_SIZE,1)\n",
    "prediction = model.predict([image_test])\n",
    "print(f'Test: {y_test[0]} Model: {prediction}')"
   ]
  },
  {
   "cell_type": "code",
   "execution_count": 69,
   "metadata": {},
   "outputs": [
    {
     "name": "stdout",
     "output_type": "stream",
     "text": [
      "1/1 [==============================] - 0s 48ms/step\n"
     ]
    },
    {
     "data": {
      "text/plain": [
       "array([[0.952429  , 0.00539904, 0.04217189]], dtype=float32)"
      ]
     },
     "execution_count": 69,
     "metadata": {},
     "output_type": "execute_result"
    }
   ],
   "source": [
    "prediction = model.predict(image_test)\n",
    "prediction"
   ]
  },
  {
   "cell_type": "code",
   "execution_count": 77,
   "metadata": {},
   "outputs": [
    {
     "data": {
      "text/plain": [
       "<matplotlib.image.AxesImage at 0x7f0a8f3d8e80>"
      ]
     },
     "execution_count": 77,
     "metadata": {},
     "output_type": "execute_result"
    },
    {
     "data": {
      "image/png": "[encoded data removed]",
      "text/plain": [
       "<Figure size 432x288 with 1 Axes>"
      ]
     },
     "metadata": {
      "needs_background": "light"
     },
     "output_type": "display_data"
    }
   ],
   "source": [
    "plt.imshow(image_test.reshape(28,28))"
   ]
  },
  {
   "cell_type": "code",
   "execution_count": null,
   "metadata": {},
   "outputs": [],
   "source": []
  },
  {
   "cell_type": "markdown",
   "metadata": {},
   "source": [
    "## 3. Read "
   ]
  },
  {
   "cell_type": "code",
   "execution_count": null,
   "metadata": {},
   "outputs": [],
   "source": []
  },
  {
   "cell_type": "markdown",
   "metadata": {},
   "source": [
    "#### notas clase\n",
    "\n",
    "##### Para hacerlo por CNN (convolutional Neural Network:\n",
    "\n",
    "1. Leer Dataset\n",
    "2. EDA\n",
    "3. Generar más datos a partir de la data actual o eliminar y dejar todas las clases del mismo tamaño\n",
    "4. Hacer una transformación para minimizar el tamañode la imagen (224x224 más o menos)\n",
    "5. Montarlo a una CNN\n",
    "\n",
    "#### Para hacerlo por transformers"
   ]
  },
  {
   "cell_type": "code",
   "execution_count": null,
   "metadata": {},
   "outputs": [],
   "source": []
  }
 ],
 "metadata": {
  "kernelspec": {
   "display_name": "Python 3.8.10 ('venv': venv)",
   "language": "python",
   "name": "python3"
  },
  "language_info": {
   "codemirror_mode": {
    "name": "ipython",
    "version": 3
   },
   "file_extension": ".py",
   "mimetype": "text/x-python",
   "name": "python",
   "nbconvert_exporter": "python",
   "pygments_lexer": "ipython3",
   "version": "3.8.10"
  },
  "orig_nbformat": 4,
  "vscode": {
   "interpreter": {
    "hash": "7ca0cbfb4fc162a1bd0d5bee6cfd1193c91dc4b7605f3792a653f95917a8a75b"
   }
  }
 },
 "nbformat": 4,
 "nbformat_minor": 2
}
