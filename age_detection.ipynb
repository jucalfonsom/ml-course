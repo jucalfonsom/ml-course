{
 "cells": [
  {
   "cell_type": "markdown",
   "metadata": {},
   "source": [
    "# Age Detection Dataset\n",
    "\n",
    "Predict the age of an Actor or Actress from facial attributes\n",
    "\n",
    "Source: [Kaggle](https://www.kaggle.com/datasets/arashnic/faces-age-detection-dataset?select=train.csv)\n",
    "\n",
    "---\n",
    "\n",
    "## About Dataset\n",
    "\n",
    "### Context\n",
    "\n",
    "Recently, many applications from biometrics,to entertainment use the information extracted from face images that contain information about age, gender, ethnic background, and emotional state. Automatic age estimation from facial images is one of the popular and challenging tasks that have different fields of applications such as controlling the content of the watched media depending on the customer's age.\n",
    "So facial feature analysis has been a topic of interest mainly due to its applicability and Deep Learning techniques are now making it possible for face analysis to be not just a dream but a reality. This simple practice dataset can get you more acquainted with application of deep learning in age detection.\n",
    "\n",
    "### Content\n",
    "\n",
    "Indian Movie Face database (IMFDB) is a large unconstrained face database consisting of 34512 images of 100 Indian actors collected from more than 100 videos. All the images are manually selected and cropped from the video frames resulting in a high degree of variability interms of scale, pose, expression, illumination, age, resolution, occlusion, and makeup. IMFDB is the first face database that provides a detailed annotation of every image in terms of age, pose, gender, expression and type of occlusion that may help other face related applications.\n",
    "\n",
    "The dataset provided a total of 19906 images.The attributes of data are as follows:\n",
    "\n",
    "* ID – Unique ID of image\n",
    "* Class – Age bin of person in image\n",
    "\n",
    "---"
   ]
  },
  {
   "cell_type": "code",
   "execution_count": null,
   "metadata": {},
   "outputs": [],
   "source": []
  }
 ],
 "metadata": {
  "kernelspec": {
   "display_name": "Python 3.8.10 ('venv': venv)",
   "language": "python",
   "name": "python3"
  },
  "language_info": {
   "name": "python",
   "version": "3.8.10"
  },
  "orig_nbformat": 4,
  "vscode": {
   "interpreter": {
    "hash": "7ca0cbfb4fc162a1bd0d5bee6cfd1193c91dc4b7605f3792a653f95917a8a75b"
   }
  }
 },
 "nbformat": 4,
 "nbformat_minor": 2
}
